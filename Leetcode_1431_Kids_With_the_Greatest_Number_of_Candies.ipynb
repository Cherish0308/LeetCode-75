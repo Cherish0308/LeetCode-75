{
  "nbformat": 4,
  "nbformat_minor": 0,
  "metadata": {
    "colab": {
      "provenance": []
    },
    "kernelspec": {
      "name": "python3",
      "display_name": "Python 3"
    },
    "language_info": {
      "name": "python"
    }
  },
  "cells": [
    {
      "cell_type": "code",
      "execution_count": 3,
      "metadata": {
        "id": "dGhUK3KTbXg1"
      },
      "outputs": [],
      "source": [
        "candies = [2,3,5,1,3]\n",
        "extraCandies = 3"
      ]
    },
    {
      "cell_type": "code",
      "source": [
        "class Solution(object):\n",
        "    def kidsWithCandies(self, candies, extraCandies):\n",
        "        \"\"\"\n",
        "        :type candies: List[int]\n",
        "        :type extraCandies: int\n",
        "        :rtype: List[bool]\n",
        "        \"\"\"\n",
        "        boolean = []\n",
        "\n",
        "        for i in candies:\n",
        "            if i + extraCandies >= max(candies):\n",
        "                boolean.append(True)\n",
        "            else:\n",
        "                boolean.append(False)\n",
        "\n",
        "        return boolean\n"
      ],
      "metadata": {
        "id": "R88bEEMlcV_9"
      },
      "execution_count": 9,
      "outputs": []
    },
    {
      "cell_type": "code",
      "source": [
        "class Solution(object):\n",
        "    def kidsWithCandies(self, candies, extraCandies):\n",
        "        \"\"\"\n",
        "        :type candies: List[int]\n",
        "        :type extraCandies: int\n",
        "        :rtype: List[bool]\n",
        "        \"\"\"\n",
        "        boolean = [True if i + extraCandies >= max(candies) else False for i in candies]\n",
        "\n",
        "        return boolean"
      ],
      "metadata": {
        "id": "HRWZcwYYd-p8"
      },
      "execution_count": 15,
      "outputs": []
    },
    {
      "cell_type": "code",
      "source": [
        "class Solution(object):\n",
        "    def kidsWithCandies(self, candies, extraCandies):\n",
        "        \"\"\"\n",
        "        :type candies: List[int]\n",
        "        :type extraCandies: int\n",
        "        :rtype: List[bool]\n",
        "        \"\"\"\n",
        "        boolean = [True if i + extraCandies >= max(candies) else False for i in candies]\n",
        "\n",
        "        return boolean"
      ],
      "metadata": {
        "id": "d1_zvjnLhZl2"
      },
      "execution_count": null,
      "outputs": []
    },
    {
      "cell_type": "code",
      "source": [
        "class Solution(object):\n",
        "    def kidsWithCandies(self, candies, extraCandies):\n",
        "        \"\"\"\n",
        "        :type candies: List[int]\n",
        "        :type extraCandies: int\n",
        "        :rtype: List[bool]\n",
        "        \"\"\"\n",
        "        return list(map(lambda x: x + extraCandies >= max(candies), candies))\n"
      ],
      "metadata": {
        "id": "TgSRIzOHh1Ff"
      },
      "execution_count": null,
      "outputs": []
    },
    {
      "cell_type": "code",
      "source": [
        "s = Solution()\n",
        "candies = [2, 3, 5, 1, 3]\n",
        "extraCandies = 3\n",
        "print(s.kidsWithCandies(candies, extraCandies))"
      ],
      "metadata": {
        "colab": {
          "base_uri": "https://localhost:8080/"
        },
        "id": "1psCoKOicqAd",
        "outputId": "f0e55661-99f4-4035-ddb2-6ad7c94ed5ad"
      },
      "execution_count": 16,
      "outputs": [
        {
          "output_type": "stream",
          "name": "stdout",
          "text": [
            "[True, True, True, False, True]\n"
          ]
        }
      ]
    },
    {
      "cell_type": "code",
      "source": [],
      "metadata": {
        "id": "lUFC7eMVdt7U"
      },
      "execution_count": null,
      "outputs": []
    }
  ]
}