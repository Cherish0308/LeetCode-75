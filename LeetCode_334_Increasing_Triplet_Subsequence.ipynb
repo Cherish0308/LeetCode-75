{
  "nbformat": 4,
  "nbformat_minor": 0,
  "metadata": {
    "colab": {
      "provenance": [],
      "authorship_tag": "ABX9TyO6Lz+GxmAlkTSP2s1sg8U1",
      "include_colab_link": true
    },
    "kernelspec": {
      "name": "python3",
      "display_name": "Python 3"
    },
    "language_info": {
      "name": "python"
    }
  },
  "cells": [
    {
      "cell_type": "markdown",
      "metadata": {
        "id": "view-in-github",
        "colab_type": "text"
      },
      "source": [
        "<a href=\"https://colab.research.google.com/github/Cherish0308/LeetCode-75/blob/main/LeetCode_334_Increasing_Triplet_Subsequence.ipynb\" target=\"_parent\"><img src=\"https://colab.research.google.com/assets/colab-badge.svg\" alt=\"Open In Colab\"/></a>"
      ]
    },
    {
      "cell_type": "code",
      "execution_count": 2,
      "metadata": {
        "id": "k8yl13z2qLQA"
      },
      "outputs": [],
      "source": [
        "class Solution(object):\n",
        "    def increasingTriplet(self, nums):\n",
        "        \"\"\"\n",
        "        :type nums: List[int]\n",
        "        :rtype: bool\n",
        "        \"\"\"\n",
        "        for a in range(len(nums)-2):\n",
        "          for b in range(a+1,len(num)-1):\n",
        "            for c in range(b+1,len(num)):\n",
        "              if num[a]<num[b]<num[c]:\n",
        "                return True\n",
        "        return False\n"
      ]
    },
    {
      "cell_type": "markdown",
      "source": [
        "Time Complexity"
      ],
      "metadata": {
        "id": "k21fKfBA2NPR"
      }
    },
    {
      "cell_type": "code",
      "source": [
        "class Solution(object):\n",
        "    def increasingTriplet(self, nums):\n",
        "        \"\"\"\n",
        "        :type nums: List[int]\n",
        "        :rtype: bool\n",
        "        \"\"\"\n",
        "        f=float('inf')\n",
        "        s=float('inf')\n",
        "\n",
        "        for a in nums:\n",
        "          if a<=f:\n",
        "            f=a\n",
        "          elif b<=s:\n",
        "            s=a\n",
        "          else:\n",
        "            return True\n",
        "        return False\n",
        "\n",
        "\n",
        "\n",
        "\n"
      ],
      "metadata": {
        "id": "COLEa7cQzS9P"
      },
      "execution_count": 1,
      "outputs": []
    }
  ]
}