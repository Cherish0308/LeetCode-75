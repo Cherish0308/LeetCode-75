{
  "cells": [
    {
      "cell_type": "markdown",
      "metadata": {
        "id": "view-in-github",
        "colab_type": "text"
      },
      "source": [
        "<a href=\"https://colab.research.google.com/github/Cherish0308/LeetCode-75/blob/main/Leetcode238_Product_of_Array_Except_Self.ipynb\" target=\"_parent\"><img src=\"https://colab.research.google.com/assets/colab-badge.svg\" alt=\"Open In Colab\"/></a>"
      ]
    },
    {
      "cell_type": "code",
      "source": [
        "class Solution(object):\n",
        "    def productExceptSelf(self, nums):\n",
        "        \"\"\"\n",
        "        :type nums: List[int]\n",
        "        :rtype: List[int]\n",
        "        \"\"\"\n",
        "        n = len(nums)\n",
        "        total_product = 1\n",
        "        out = []\n",
        "\n",
        "\n",
        "        for num in nums:\n",
        "            total_product *= num\n",
        "\n",
        "\n",
        "        for i in range(n):\n",
        "            if nums[i] != 0:\n",
        "                out.append(total_product // nums[i])\n",
        "            else:\n",
        "\n",
        "                product_except_zero = 1\n",
        "                for j, num in enumerate(nums):\n",
        "                    if j != i:\n",
        "                        product_except_zero *= num\n",
        "                out.append(product_except_zero)\n",
        "        return out\n",
        "\n",
        "\n",
        "\n"
      ],
      "metadata": {
        "id": "m7K9TtHrGxBJ"
      },
      "execution_count": null,
      "outputs": []
    },
    {
      "cell_type": "code",
      "source": [
        "Input: nums = [1,2,3,4]\n",
        "Output: [24,12,8,6]"
      ],
      "metadata": {
        "id": "YWUuFoqQG0oN"
      },
      "execution_count": null,
      "outputs": []
    }
  ],
  "metadata": {
    "colab": {
      "provenance": [],
      "include_colab_link": true
    },
    "kernelspec": {
      "display_name": "Python 3",
      "name": "python3"
    }
  },
  "nbformat": 4,
  "nbformat_minor": 0
}