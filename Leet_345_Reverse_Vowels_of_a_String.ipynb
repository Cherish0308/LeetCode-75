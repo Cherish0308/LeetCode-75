{
  "cells": [
    {
      "cell_type": "markdown",
      "metadata": {
        "id": "view-in-github",
        "colab_type": "text"
      },
      "source": [
        "<a href=\"https://colab.research.google.com/github/Cherish0308/LeetCode-75/blob/main/Leet_345_Reverse_Vowels_of_a_String.ipynb\" target=\"_parent\"><img src=\"https://colab.research.google.com/assets/colab-badge.svg\" alt=\"Open In Colab\"/></a>"
      ]
    },
    {
      "cell_type": "code",
      "source": [
        "class Solution(object):\n",
        "    def reverseVowels(self, s):\n",
        "        \"\"\"\n",
        "        :type s: str\n",
        "        :rtype: str\n",
        "        \"\"\"\n",
        "        vowels = ['a', 'e', 'i', 'o', 'u', 'A', 'E', 'I', 'O', 'U']\n",
        "        vow = []\n",
        "\n",
        "        for n in s:\n",
        "            if n in vowels:\n",
        "                vow.append(n)\n",
        "\n",
        "\n",
        "        return self.swap_letters(s,vow)\n",
        "\n",
        "    def swap_letters(self,s,vow):\n",
        "\n",
        "        vow.reverse()\n",
        "        s_list=list(s)\n",
        "        vow_index=0\n",
        "\n",
        "        for i,letter in enumerate(s_list):\n",
        "          if letter in vow:\n",
        "            s_list[i]=vow[vow_index]\n",
        "            vow_index+=1\n",
        "        return ''.join(s_list)\n",
        "\n",
        "sol=Solution()\n",
        "result=sol.reverseVowels('CherishBhimarasetty')\n",
        "print(\"Original: hello, After Reversing Vowels:\", result)"
      ],
      "metadata": {
        "id": "FB6tFiUF649V",
        "outputId": "9eb73b51-f067-49f2-802e-be747a22ba64",
        "colab": {
          "base_uri": "https://localhost:8080/"
        }
      },
      "execution_count": null,
      "outputs": [
        {
          "output_type": "stream",
          "name": "stdout",
          "text": [
            "Original: hello, After Reversing Vowels: CherashBhamirisetty\n"
          ]
        }
      ]
    },
    {
      "cell_type": "code",
      "source": [],
      "metadata": {
        "id": "1BrM95aF65mb"
      },
      "execution_count": null,
      "outputs": []
    }
  ],
  "metadata": {
    "colab": {
      "provenance": [],
      "include_colab_link": true
    },
    "kernelspec": {
      "display_name": "Python 3",
      "name": "python3"
    }
  },
  "nbformat": 4,
  "nbformat_minor": 0
}